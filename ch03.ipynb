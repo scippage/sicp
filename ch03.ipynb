{
 "cells": [
  {
   "cell_type": "code",
   "execution_count": 1,
   "id": "5735c1d4-1b61-463d-adee-ca6b0eb22eb4",
   "metadata": {},
   "outputs": [],
   "source": [
    "#lang iracket/lang #:require sicp"
   ]
  },
  {
   "cell_type": "code",
   "execution_count": 2,
   "id": "46304bc9-43a2-4f8a-9a77-92feac2ae6da",
   "metadata": {},
   "outputs": [
    {
     "name": "stdout",
     "output_type": "stream",
     "text": [
      "ok"
     ]
    }
   ],
   "source": [
    ";; functions we wish were in the sicp stdlib\n",
    "(load \"sicp-lib.scm\")"
   ]
  },
  {
   "cell_type": "markdown",
   "id": "36434f93",
   "metadata": {},
   "source": [
    "## Q3.1"
   ]
  },
  {
   "cell_type": "code",
   "execution_count": null,
   "id": "1eacbd67-3a2a-45ad-8b68-a6188d5ab4fb",
   "metadata": {},
   "outputs": [],
   "source": []
  },
  {
   "cell_type": "markdown",
   "id": "c5796ef2",
   "metadata": {},
   "source": [
    "## Q3.2"
   ]
  },
  {
   "cell_type": "markdown",
   "id": "7fd00b11",
   "metadata": {},
   "source": [
    "## Q3.3"
   ]
  },
  {
   "cell_type": "markdown",
   "id": "397b5593",
   "metadata": {},
   "source": [
    "## Q3.4"
   ]
  },
  {
   "cell_type": "markdown",
   "id": "00285018",
   "metadata": {},
   "source": [
    "## Q3.5"
   ]
  },
  {
   "cell_type": "markdown",
   "id": "ac0bb791",
   "metadata": {},
   "source": [
    "## Q3.6"
   ]
  },
  {
   "cell_type": "markdown",
   "id": "1a7ea26b",
   "metadata": {},
   "source": [
    "## Q3.7"
   ]
  },
  {
   "cell_type": "markdown",
   "id": "2f4b246e",
   "metadata": {},
   "source": [
    "## Q3.8"
   ]
  },
  {
   "cell_type": "markdown",
   "id": "8cc41463",
   "metadata": {},
   "source": [
    "## Q3.9"
   ]
  },
  {
   "cell_type": "markdown",
   "id": "01dba105",
   "metadata": {},
   "source": [
    "## Q3.10"
   ]
  },
  {
   "cell_type": "markdown",
   "id": "564838ae",
   "metadata": {},
   "source": [
    "## Q3.11"
   ]
  },
  {
   "cell_type": "markdown",
   "id": "3910c499",
   "metadata": {},
   "source": [
    "## Q3.12"
   ]
  },
  {
   "cell_type": "markdown",
   "id": "0f1cdbd8",
   "metadata": {},
   "source": [
    "## Q3.13"
   ]
  },
  {
   "cell_type": "markdown",
   "id": "49c2b4ec",
   "metadata": {},
   "source": [
    "## Q3.14"
   ]
  },
  {
   "cell_type": "markdown",
   "id": "a7179c7e",
   "metadata": {},
   "source": [
    "## Q3.15"
   ]
  },
  {
   "cell_type": "markdown",
   "id": "ffef5cff",
   "metadata": {},
   "source": [
    "## Q3.16"
   ]
  },
  {
   "cell_type": "markdown",
   "id": "6a85cded",
   "metadata": {},
   "source": [
    "## Q3.17"
   ]
  },
  {
   "cell_type": "markdown",
   "id": "936d5007",
   "metadata": {},
   "source": [
    "## Q3.18"
   ]
  },
  {
   "cell_type": "markdown",
   "id": "c9fbf9b2",
   "metadata": {},
   "source": [
    "## Q3.19"
   ]
  },
  {
   "cell_type": "markdown",
   "id": "e35cf208",
   "metadata": {},
   "source": [
    "## Q3.20"
   ]
  },
  {
   "cell_type": "markdown",
   "id": "5eeafc54",
   "metadata": {},
   "source": [
    "## Q3.21"
   ]
  },
  {
   "cell_type": "markdown",
   "id": "52423317",
   "metadata": {},
   "source": [
    "## Q3.22"
   ]
  },
  {
   "cell_type": "markdown",
   "id": "76d1e217",
   "metadata": {},
   "source": [
    "## Q3.23"
   ]
  },
  {
   "cell_type": "markdown",
   "id": "8aeb1072",
   "metadata": {},
   "source": [
    "## Q3.24"
   ]
  },
  {
   "cell_type": "markdown",
   "id": "08f132df",
   "metadata": {},
   "source": [
    "## Q3.25"
   ]
  },
  {
   "cell_type": "markdown",
   "id": "0c9c50cc",
   "metadata": {},
   "source": [
    "## Q3.26"
   ]
  },
  {
   "cell_type": "markdown",
   "id": "a3a72526",
   "metadata": {},
   "source": [
    "## Q3.27"
   ]
  },
  {
   "cell_type": "markdown",
   "id": "aee255a7",
   "metadata": {},
   "source": [
    "## Q3.28"
   ]
  },
  {
   "cell_type": "markdown",
   "id": "c06eefa8",
   "metadata": {},
   "source": [
    "## Q3.29"
   ]
  },
  {
   "cell_type": "markdown",
   "id": "a21a4a98",
   "metadata": {},
   "source": [
    "## Q3.30"
   ]
  },
  {
   "cell_type": "markdown",
   "id": "331df1ca",
   "metadata": {},
   "source": [
    "## Q3.31"
   ]
  },
  {
   "cell_type": "markdown",
   "id": "091c5ff5",
   "metadata": {},
   "source": [
    "## Q3.32"
   ]
  },
  {
   "cell_type": "markdown",
   "id": "493c9cc6",
   "metadata": {},
   "source": [
    "## Q3.33"
   ]
  },
  {
   "cell_type": "markdown",
   "id": "dd82815c",
   "metadata": {},
   "source": [
    "## Q3.34"
   ]
  },
  {
   "cell_type": "markdown",
   "id": "533b5c42",
   "metadata": {},
   "source": [
    "## Q3.35"
   ]
  },
  {
   "cell_type": "markdown",
   "id": "125daa81",
   "metadata": {},
   "source": [
    "## Q3.36"
   ]
  },
  {
   "cell_type": "markdown",
   "id": "cb8aa3e6",
   "metadata": {},
   "source": [
    "## Q3.37"
   ]
  },
  {
   "cell_type": "markdown",
   "id": "5ac44838",
   "metadata": {},
   "source": [
    "## Q3.38"
   ]
  },
  {
   "cell_type": "markdown",
   "id": "0984539a",
   "metadata": {},
   "source": [
    "## Q3.39"
   ]
  },
  {
   "cell_type": "markdown",
   "id": "126abd78",
   "metadata": {},
   "source": [
    "## Q3.40"
   ]
  },
  {
   "cell_type": "markdown",
   "id": "7154ccc7",
   "metadata": {},
   "source": [
    "## Q3.41"
   ]
  },
  {
   "cell_type": "markdown",
   "id": "53db26b2",
   "metadata": {},
   "source": [
    "## Q3.42"
   ]
  },
  {
   "cell_type": "markdown",
   "id": "fb55fdec",
   "metadata": {},
   "source": [
    "## Q3.43"
   ]
  },
  {
   "cell_type": "markdown",
   "id": "dc4829d7",
   "metadata": {},
   "source": [
    "## Q3.44"
   ]
  },
  {
   "cell_type": "markdown",
   "id": "8a30ec26",
   "metadata": {},
   "source": [
    "## Q3.45"
   ]
  },
  {
   "cell_type": "markdown",
   "id": "7ad91cf5",
   "metadata": {},
   "source": [
    "## Q3.46"
   ]
  },
  {
   "cell_type": "markdown",
   "id": "88ad22a7",
   "metadata": {},
   "source": [
    "## Q3.47"
   ]
  },
  {
   "cell_type": "markdown",
   "id": "2886e1de",
   "metadata": {},
   "source": [
    "## Q3.48"
   ]
  },
  {
   "cell_type": "markdown",
   "id": "065ab894",
   "metadata": {},
   "source": [
    "## Q3.49"
   ]
  },
  {
   "cell_type": "markdown",
   "id": "f3bafce7",
   "metadata": {},
   "source": [
    "## Q3.50"
   ]
  },
  {
   "cell_type": "markdown",
   "id": "0fb56635",
   "metadata": {},
   "source": [
    "## Q3.51"
   ]
  },
  {
   "cell_type": "markdown",
   "id": "9d37330b",
   "metadata": {},
   "source": [
    "## Q3.52"
   ]
  },
  {
   "cell_type": "markdown",
   "id": "66ed4a33",
   "metadata": {},
   "source": [
    "## Q3.53"
   ]
  },
  {
   "cell_type": "markdown",
   "id": "90331770",
   "metadata": {},
   "source": [
    "## Q3.54"
   ]
  },
  {
   "cell_type": "markdown",
   "id": "4f9b0068",
   "metadata": {},
   "source": [
    "## Q3.55"
   ]
  },
  {
   "cell_type": "markdown",
   "id": "4ed28928",
   "metadata": {},
   "source": [
    "## Q3.56"
   ]
  },
  {
   "cell_type": "markdown",
   "id": "c24c6b7b",
   "metadata": {},
   "source": [
    "## Q3.57"
   ]
  },
  {
   "cell_type": "markdown",
   "id": "a8cd3ca8",
   "metadata": {},
   "source": [
    "## Q3.58"
   ]
  },
  {
   "cell_type": "markdown",
   "id": "1681e22e",
   "metadata": {},
   "source": [
    "## Q3.59"
   ]
  },
  {
   "cell_type": "markdown",
   "id": "db3cb7e1",
   "metadata": {},
   "source": [
    "## Q3.60"
   ]
  },
  {
   "cell_type": "markdown",
   "id": "8284a00b",
   "metadata": {},
   "source": [
    "## Q3.61"
   ]
  },
  {
   "cell_type": "markdown",
   "id": "e48c8b64",
   "metadata": {},
   "source": [
    "## Q3.62"
   ]
  },
  {
   "cell_type": "markdown",
   "id": "0ff9854a",
   "metadata": {},
   "source": [
    "## Q3.63"
   ]
  },
  {
   "cell_type": "markdown",
   "id": "4ae29194",
   "metadata": {},
   "source": [
    "## Q3.64"
   ]
  },
  {
   "cell_type": "markdown",
   "id": "b24e27d5",
   "metadata": {},
   "source": [
    "## Q3.65"
   ]
  },
  {
   "cell_type": "markdown",
   "id": "934781bb",
   "metadata": {},
   "source": [
    "## Q3.66"
   ]
  },
  {
   "cell_type": "markdown",
   "id": "fc254394",
   "metadata": {},
   "source": [
    "## Q3.67"
   ]
  },
  {
   "cell_type": "markdown",
   "id": "18346733",
   "metadata": {},
   "source": [
    "## Q3.68"
   ]
  },
  {
   "cell_type": "markdown",
   "id": "fd5705ef",
   "metadata": {},
   "source": [
    "## Q3.69"
   ]
  },
  {
   "cell_type": "markdown",
   "id": "86c1b366",
   "metadata": {},
   "source": [
    "## Q3.70"
   ]
  },
  {
   "cell_type": "markdown",
   "id": "445e4ecb",
   "metadata": {},
   "source": [
    "## Q3.71"
   ]
  },
  {
   "cell_type": "markdown",
   "id": "52b54bfc",
   "metadata": {},
   "source": [
    "## Q3.72"
   ]
  },
  {
   "cell_type": "markdown",
   "id": "0f855f88",
   "metadata": {},
   "source": [
    "## Q3.73"
   ]
  },
  {
   "cell_type": "markdown",
   "id": "9920e6da",
   "metadata": {},
   "source": [
    "## Q3.74"
   ]
  },
  {
   "cell_type": "markdown",
   "id": "012c43a1",
   "metadata": {},
   "source": [
    "## Q3.75"
   ]
  },
  {
   "cell_type": "markdown",
   "id": "4637d96c",
   "metadata": {},
   "source": [
    "## Q3.76"
   ]
  },
  {
   "cell_type": "markdown",
   "id": "85b83664",
   "metadata": {},
   "source": [
    "## Q3.77"
   ]
  },
  {
   "cell_type": "markdown",
   "id": "9bd9956a",
   "metadata": {},
   "source": [
    "## Q3.78"
   ]
  },
  {
   "cell_type": "markdown",
   "id": "0fc07136",
   "metadata": {},
   "source": [
    "## Q3.79"
   ]
  },
  {
   "cell_type": "markdown",
   "id": "9244593b",
   "metadata": {},
   "source": [
    "## Q3.80"
   ]
  },
  {
   "cell_type": "markdown",
   "id": "14243ad5",
   "metadata": {},
   "source": [
    "## Q3.81"
   ]
  },
  {
   "cell_type": "markdown",
   "id": "e2513c73",
   "metadata": {},
   "source": [
    "## Q3.82"
   ]
  }
 ],
 "metadata": {
  "kernelspec": {
   "display_name": "Racket",
   "language": "racket",
   "name": "racket"
  },
  "language_info": {
   "codemirror_mode": "scheme",
   "file_extension": ".rkt",
   "mimetype": "text/x-racket",
   "name": "Racket",
   "pygments_lexer": "racket",
   "version": "8.9"
  }
 },
 "nbformat": 4,
 "nbformat_minor": 5
}
