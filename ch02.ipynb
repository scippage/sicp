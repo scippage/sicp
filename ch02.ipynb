{
 "cells": [
  {
   "cell_type": "code",
   "execution_count": 1,
   "id": "f62b7688-60b4-4ff3-a3f5-c626a5747ec3",
   "metadata": {},
   "outputs": [],
   "source": [
    "#lang iracket/lang #:require sicp"
   ]
  },
  {
   "cell_type": "markdown",
   "id": "9fad0c97",
   "metadata": {},
   "source": [
    "## Q2.1"
   ]
  },
  {
   "cell_type": "code",
   "execution_count": 2,
   "id": "d0955c01-de55-4236-8aa0-03387b1c78b9",
   "metadata": {},
   "outputs": [
    {
     "data": {
      "text/html": [
       "<code>(mcons -1 2)</code>"
      ],
      "text/plain": [
       "(mcons -1 2)"
      ]
     },
     "execution_count": 2,
     "metadata": {},
     "output_type": "execute_result"
    }
   ],
   "source": [
    "(define (fix-sign x y)\n",
    "    (cond ((and (> x 0) (< y 0)) (cons (* -1 x) (* -1 y)))\n",
    "          ((and (< x 0) (< y 0)) (cons (* -1 x) (* -1 y)))\n",
    "          (else (cons x y))))\n",
    "          \n",
    "(define (make-rat n d)\n",
    "    (let ((g (gcd n d)))\n",
    "        (fix-sign (/ n g) (/ d g))))\n",
    "(make-rat 5 -10)"
   ]
  },
  {
   "cell_type": "markdown",
   "id": "c223c3c8",
   "metadata": {},
   "source": [
    "## Q2.2"
   ]
  },
  {
   "cell_type": "code",
   "execution_count": 3,
   "id": "ff54fc42-9698-4a53-9445-150030aca5ba",
   "metadata": {},
   "outputs": [
    {
     "name": "stdout",
     "output_type": "stream",
     "text": [
      "\n",
      "(6,5)"
     ]
    }
   ],
   "source": [
    "(define (make-segment a b)\n",
    "    (cons a b))\n",
    "(define (start-segment s) (car s))\n",
    "(define (end-segment s) (cdr s))\n",
    "\n",
    "(define (make-point x y)\n",
    "    (cons x y))\n",
    "(define (x-point p) (car p))\n",
    "(define (y-point p) (cdr p))\n",
    "\n",
    "(define (average x y) (/ (+ x y) 2))\n",
    "(define (midpoint-segment s)\n",
    "    (let ((start (start-segment s))\n",
    "          (end (end-segment s)))\n",
    "        (make-point (average (x-point start) (x-point end))\n",
    "                    (average (y-point start) (y-point end)))))\n",
    "\n",
    "(define (print-point p)\n",
    "    (newline)\n",
    "    (display \"(\")\n",
    "    (display (x-point p))\n",
    "    (display \",\")\n",
    "    (display (y-point p))\n",
    "    (display \")\"))\n",
    "\n",
    "(let ((seg (make-segment (make-point 1 2) (make-point 11 8))))\n",
    "    (print-point (midpoint-segment seg)))"
   ]
  },
  {
   "cell_type": "markdown",
   "id": "1d8e4dec",
   "metadata": {},
   "source": [
    "## Q2.3"
   ]
  },
  {
   "cell_type": "code",
   "execution_count": 4,
   "id": "03ae1230-de0e-47ad-81af-afb2cb11de00",
   "metadata": {},
   "outputs": [
    {
     "name": "stdout",
     "output_type": "stream",
     "text": [
      "14\n",
      "12"
     ]
    }
   ],
   "source": [
    ";; top-left, bottom-right corners\n",
    "(define (make-rectangle c1 c2)\n",
    "    (cons c1 c2))\n",
    "(define (tl-rectangle r) (car r))\n",
    "(define (br-rectangle r) (cdr r))\n",
    "\n",
    "(define (perimeter r)\n",
    "    (let ((x-len (- (x-point (br-rectangle r))\n",
    "                    (x-point (tl-rectangle r))))\n",
    "          (y-len (- (y-point (tl-rectangle r))\n",
    "                    (y-point (br-rectangle r)))))\n",
    "        (+ (* 2 x-len) (* 2 y-len))))\n",
    "(define (area r)\n",
    "    (let ((x-len (- (x-point (br-rectangle r))\n",
    "                    (x-point (tl-rectangle r))))\n",
    "          (y-len (- (y-point (tl-rectangle r))\n",
    "                    (y-point (br-rectangle r)))))\n",
    "        (* x-len y-len)))\n",
    "\n",
    "(let ((rect (make-rectangle (make-point 2 5) (make-point 5 1))))\n",
    "    (display (perimeter rect))  ;; (3+4)*2\n",
    "    (newline)\n",
    "    (display (area rect)))  ;; 3*4"
   ]
  },
  {
   "cell_type": "code",
   "execution_count": 5,
   "id": "67db0a82-d54c-4f4c-8a8c-378e5255c89d",
   "metadata": {},
   "outputs": [
    {
     "name": "stdout",
     "output_type": "stream",
     "text": [
      "14\n",
      "12"
     ]
    }
   ],
   "source": [
    ";; bottom-left, top-right corners\n",
    "(define (make-rectangle-alt c1 c2)\n",
    "    (cons c1 c2))\n",
    "(define (tl-rectangle r)\n",
    "    (make-point (x-point (car r)) (y-point (cdr r))))\n",
    "(define (br-rectangle r)\n",
    "    (make-point (x-point (cdr r)) (y-point (car r))))\n",
    "\n",
    "(define (perimeter r)\n",
    "    (let ((x-len (- (x-point (br-rectangle r))\n",
    "                    (x-point (tl-rectangle r))))\n",
    "          (y-len (- (y-point (tl-rectangle r))\n",
    "                    (y-point (br-rectangle r)))))\n",
    "        (+ (* 2 x-len) (* 2 y-len))))\n",
    "(define (area r)\n",
    "    (let ((x-len (- (x-point (br-rectangle r))\n",
    "                    (x-point (tl-rectangle r))))\n",
    "          (y-len (- (y-point (tl-rectangle r))\n",
    "                    (y-point (br-rectangle r)))))\n",
    "        (* x-len y-len)))\n",
    "\n",
    "(let ((rect (make-rectangle-alt (make-point 2 1) (make-point 5 5))))\n",
    "    (display (perimeter rect))  ;; (3+4)*2\n",
    "    (newline)\n",
    "    (display (area rect)))  ;; 3*4"
   ]
  },
  {
   "cell_type": "markdown",
   "id": "70ecffe3",
   "metadata": {},
   "source": [
    "## Q2.4"
   ]
  },
  {
   "cell_type": "code",
   "execution_count": 6,
   "id": "0884cac9-494e-4ba6-99d4-7e09114a32b1",
   "metadata": {},
   "outputs": [
    {
     "name": "stdout",
     "output_type": "stream",
     "text": [
      "2\n",
      "3\n"
     ]
    }
   ],
   "source": [
    "(define (cons-alt x y)\n",
    "    (lambda (m) (m x y)))\n",
    "(define (car-alt z)\n",
    "    (z (lambda (p q) p)))\n",
    "(define (cdr-alt z)\n",
    "    (z (lambda (p q) q)))\n",
    "\n",
    "(display (car-alt (cons-alt 2 3))) (newline)\n",
    "(display (cdr-alt (cons-alt 2 3))) (newline)"
   ]
  },
  {
   "cell_type": "markdown",
   "id": "1773eaad-7c26-4ff5-becd-43bcce5476fd",
   "metadata": {},
   "source": [
    "```\n",
    "(cdr-alt (cons-alt x y))\n",
    "(cdr-alt (lambda (m) (m x y)))\n",
    "((lambda (m) (m x y))\n",
    "    (lambda (p q) q))\n",
    "((lambda (p q) q) x y)\n",
    "y\n",
    "```"
   ]
  },
  {
   "cell_type": "markdown",
   "id": "c67a1902",
   "metadata": {},
   "source": [
    "## Q2.5"
   ]
  },
  {
   "cell_type": "code",
   "execution_count": 7,
   "id": "fdf26607-d891-4ae9-9e08-66caa90207ae",
   "metadata": {},
   "outputs": [
    {
     "name": "stdout",
     "output_type": "stream",
     "text": [
      "144\n",
      "4.0\n",
      "3.0"
     ]
    }
   ],
   "source": [
    "(define (make-pair a b)\n",
    "    (* (expt 2 a) (expt 3 b)))\n",
    "(define (get-a p)\n",
    "    (if (= (remainder p 3) 0)\n",
    "        (get-a (/ p 3))\n",
    "        (/ (log p) (log 2))))\n",
    "(define (get-b p)\n",
    "    (if (= (remainder p 2) 0)\n",
    "        (get-a (/ p 2))\n",
    "        (/ (log p) (log 3))))\n",
    "\n",
    "(let ((p (make-pair 4 2)))\n",
    "    (display p) (newline)\n",
    "    (display (get-a p)) (newline)\n",
    "    (display (get-b p)))"
   ]
  },
  {
   "cell_type": "markdown",
   "id": "047d46a6-3ca0-410e-b8c5-1ba4626c56ba",
   "metadata": {},
   "source": [
    "To recover $a$ from $2^a3^b$, divide by all the factors 3 to get $z=2^a$, then take $log_{2}z$."
   ]
  },
  {
   "cell_type": "markdown",
   "id": "c06807fa",
   "metadata": {},
   "source": [
    "## Q2.6"
   ]
  },
  {
   "cell_type": "code",
   "execution_count": 8,
   "id": "ea4c2eaf-790a-4587-a58d-b76cf61a4eb8",
   "metadata": {},
   "outputs": [
    {
     "name": "stdout",
     "output_type": "stream",
     "text": [
      "1 1\n",
      "2 2\n",
      "3\n",
      "4\n"
     ]
    }
   ],
   "source": [
    ";; https://arxiv.org/pdf/1503.09060.pdf\n",
    "\n",
    "(define zero (lambda (f) (lambda (x) x)))\n",
    ";; \\fx.x\n",
    ";; g(f, x) = x\n",
    "\n",
    "(define (add-1 n)\n",
    "    (lambda (f) (lambda (x) (f ((n f) x)))))\n",
    ";; \\nfx.f(nfx)\n",
    ";; g(n, f, x) = f((n(f))(x))\n",
    "\n",
    "(define one (lambda (f) (lambda (x) (f x))))\n",
    ";; \\fx.f(x)\n",
    ";; g(f, x) = f(x)\n",
    "\n",
    "(define two (lambda (f) (lambda (x) (f (f x)))))\n",
    ";; \\fx.f(f(x))\n",
    ";; g(f, x) = f(f(x))\n",
    "\n",
    "(define (add a b) (lambda (f) (lambda (x) ((a f) ((b f) x)))))\n",
    ";; \\abfx.af(bfx)\n",
    ";; g(a, b, f, x) = (a(f))((b(f))(x))\n",
    "\n",
    "(define (mul a b) (lambda (f) (a (b f))))\n",
    ";; \"repeat bf a times\"\n",
    ";; \\abfx.a(bf)x = \\abf.a(bf)\n",
    ";; g(a, b, f, x) = (a(b(f)))(x)\n",
    "\n",
    "(display (((add-1 zero) (lambda (z) (+ 1 z))) 0)) (display \" \")\n",
    "(display ((one (lambda (z) (+ 1 z))) 0)) (newline)\n",
    "(display (((add-1 (add-1 zero)) (lambda (z) (+ 1 z))) 0)) (display \" \")\n",
    "(display ((two (lambda (z) (+ 1 z))) 0)) (newline)\n",
    "(display (((add one two) (lambda (z) (+ 1 z))) 0)) (newline)\n",
    "(display (((mul two two) (lambda (z) (+ 1 z))) 0)) (newline)"
   ]
  },
  {
   "cell_type": "markdown",
   "id": "71f670fc",
   "metadata": {},
   "source": [
    "## Q2.7"
   ]
  },
  {
   "cell_type": "code",
   "execution_count": 9,
   "id": "26619935-46a9-4f8d-93ea-c6717b783bf3",
   "metadata": {},
   "outputs": [],
   "source": [
    "(define (make-interval a b)\n",
    "    (cons a b))\n",
    "(define (lower-bound interval) (car interval))\n",
    "(define (upper-bound interval) (cdr interval))"
   ]
  },
  {
   "cell_type": "markdown",
   "id": "c108c8c4",
   "metadata": {},
   "source": [
    "## Q2.8"
   ]
  },
  {
   "cell_type": "markdown",
   "id": "50ef1d95-e311-4f53-bb5b-4ec08ec61776",
   "metadata": {},
   "source": [
    "We have to keep the \"factoring in resistor tolerance\" motivation in mind when answering the next few questions. To subtract two intervals $(a_{min}, a_{max})$ and $(b_{min}, b_{max})$ means to find the min and max bounds of $a-b$, that is, to compute $(a_{min}-b_{max}, a_{max}-b_{min})$. It doesn't mean to subtract the tuples element-wise.\n",
    "\n",
    "Importantly, it's not generally true that $(a-b)+b = a$ when we do interval arithmetic: these intervals under our arithmetic operations do not form a field."
   ]
  },
  {
   "cell_type": "code",
   "execution_count": 10,
   "id": "d7224d45-c829-458b-a5c3-04b65a3af704",
   "metadata": {},
   "outputs": [
    {
     "name": "stdout",
     "output_type": "stream",
     "text": [
      "(5 . 12)\n",
      "(-5 . 2)\n",
      "(-2 . 9)\n"
     ]
    }
   ],
   "source": [
    "(define (add-interval x y)\n",
    "    (make-interval (+ (lower-bound x) (lower-bound y))\n",
    "                   (+ (upper-bound x) (upper-bound y))))\n",
    "(define (sub-interval x y)\n",
    "    (add-interval x \n",
    "                  (make-interval (- (upper-bound y))\n",
    "                                 (- (lower-bound y)))))\n",
    "\n",
    "(let ((i1 (make-interval 2 5))\n",
    "      (i2 (make-interval 3 7)))\n",
    "    (display (add-interval i1 i2)) (newline)  ;; (5, 12)\n",
    "    (display (sub-interval i1 i2)) (newline)  ;; (-5, 2)\n",
    "    (display (add-interval (sub-interval i1 i2) i2)) (newline)  ;; (-2, 9) =/= (2, 5)\n",
    ")  "
   ]
  },
  {
   "cell_type": "markdown",
   "id": "64ca2ee4",
   "metadata": {},
   "source": [
    "## Q2.9"
   ]
  },
  {
   "cell_type": "code",
   "execution_count": 11,
   "id": "8bbfd0ed-6624-47bb-9aa8-7c8d266ece8f",
   "metadata": {},
   "outputs": [
    {
     "name": "stdout",
     "output_type": "stream",
     "text": [
      "(-35 . 14)\n",
      "(-35/3 . 14/3)"
     ]
    }
   ],
   "source": [
    "(define (mul-interval x y)\n",
    "    (let ((p1 (* (lower-bound x) (lower-bound y)))\n",
    "        (p2 (* (lower-bound x) (upper-bound y)))\n",
    "        (p3 (* (upper-bound x) (lower-bound y)))\n",
    "        (p4 (* (upper-bound x) (upper-bound y))))\n",
    "        (make-interval (min p1 p2 p3 p4)\n",
    "                       (max p1 p2 p3 p4))))\n",
    "(define (div-interval x y)\n",
    "    (mul-interval\n",
    "        x\n",
    "        (make-interval (/ 1 (upper-bound y))\n",
    "                       (/ 1 (lower-bound y)))))\n",
    "\n",
    "(display (mul-interval (make-interval -5 2) (make-interval 3 7))) (newline) \n",
    "(display (div-interval (make-interval -35 14) (make-interval 3 7)))"
   ]
  },
  {
   "cell_type": "code",
   "execution_count": 12,
   "id": "68b27ae9-0e29-4792-9962-fa64f20b394e",
   "metadata": {},
   "outputs": [
    {
     "name": "stdout",
     "output_type": "stream",
     "text": [
      "(2 . 5) | i1\n",
      "(3 . 7) | i2\n",
      "3/2 | width(i1) = (5-2)/2\n",
      "2 | width(i2) = (7-3)/2\n",
      "\n",
      "(5 . 12) | i1+i2 = (5, 12)\n",
      "7/2 | width(i1+i2) = (12-5)/2\n",
      "7/2 | width(i1+i2) = width(i1)+width(i2) = 3/2 + 2\n",
      "\n",
      "(-5 . 2) | i1-i2 = (-5, 2)\n",
      "7/2 | width(i1-i2) = (2+5)/2\n",
      "7/2 | width(i1-i2) = width(i1+i2) = width(i1)+width(i2) = 3/2 + 2\n",
      "\n",
      "(6 . 35) | i1*i2 = (2*3, 5*7)\n",
      "29/2 | width(i1*i2) = (35-6)/2\n",
      "3 | width(i1)*width(i2) = (3/2)*2 = 3 =/= 29/2\n",
      "\n",
      "(2/7 . 5/3) | i1/i2 = (2/7, 5/3)\n",
      "29/42 | width(i1/i2) = (5/3-2/7)/2\n",
      "3/4 | width(i1)/width(i2) = (3/2)/2 = 3/4 =/= 29/42\n"
     ]
    }
   ],
   "source": [
    "(define (width interval)\n",
    "    (/ (- (upper-bound interval) (lower-bound interval)) 2))\n",
    "(let ((i1 (make-interval 2 5))\n",
    "      (i2 (make-interval 3 7)))\n",
    "    (display i1) (display \" | i1\") (newline)\n",
    "    (display i2) (display \" | i2\") (newline)\n",
    "    (display (width i1)) (display \" | width(i1) = (5-2)/2\") (newline)\n",
    "    (display (width i2)) (display \" | width(i2) = (7-3)/2\") (newline)\n",
    "    (newline)\n",
    "    (display (add-interval i1 i2)) (display \" | i1+i2 = (5, 12)\") (newline)\n",
    "    (display (width (add-interval i1 i2))) (display \" | width(i1+i2) = (12-5)/2\") (newline)\n",
    "    (display (+ (width i1) (width i2))) (display \" | width(i1+i2) = width(i1)+width(i2) = 3/2 + 2\") (newline)\n",
    "    (newline)\n",
    "    (display (sub-interval i1 i2)) (display \" | i1-i2 = (-5, 2)\") (newline)\n",
    "    (display (width (sub-interval i1 i2))) (display \" | width(i1-i2) = (2+5)/2\") (newline)\n",
    "    (display (+ (width i1) (width i2))) (display \" | width(i1-i2) = width(i1+i2) = width(i1)+width(i2) = 3/2 + 2\") (newline)\n",
    "    (newline)\n",
    "    (display (mul-interval i1 i2)) (display \" | i1*i2 = (2*3, 5*7)\") (newline)\n",
    "    (display (width (mul-interval i1 i2))) (display \" | width(i1*i2) = (35-6)/2\") (newline)\n",
    "    (display (* (width i1) (width i2))) (display \" | width(i1)*width(i2) = (3/2)*2 = 3 =/= 29/2\") (newline)\n",
    "    (newline)\n",
    "    (display (div-interval i1 i2)) (display \" | i1/i2 = (2/7, 5/3)\") (newline)\n",
    "    (display (width (div-interval i1 i2))) (display \" | width(i1/i2) = (5/3-2/7)/2\") (newline)\n",
    "    (display (/ (width i1) (width i2))) (display \" | width(i1)/width(i2) = (3/2)/2 = 3/4 =/= 29/42\") (newline)\n",
    ")"
   ]
  },
  {
   "cell_type": "markdown",
   "id": "ea702008",
   "metadata": {},
   "source": [
    "## Q2.10"
   ]
  },
  {
   "cell_type": "code",
   "execution_count": 13,
   "id": "ab77deef-68b8-42d5-b66e-f629ea72f4fc",
   "metadata": {},
   "outputs": [
    {
     "name": "stderr",
     "output_type": "stream",
     "text": [
      "Interval spans zero.\n",
      "  context...:\n",
      "   body of top-level\n"
     ]
    }
   ],
   "source": [
    "(define (div-interval-mod x y)\n",
    "    (if (<= (* (lower-bound y) (upper-bound y)) 0)\n",
    "        (error \"Interval spans zero.\")\n",
    "        (mul-interval\n",
    "            x\n",
    "            (make-interval (/ 1 (upper-bound y))\n",
    "                           (/ 1 (lower-bound y))))))\n",
    "\n",
    "(display (div-interval-mod (make-interval 2 5) (make-interval -3 7)))"
   ]
  },
  {
   "cell_type": "markdown",
   "id": "3aa56dda",
   "metadata": {},
   "source": [
    "## Q2.11"
   ]
  },
  {
   "cell_type": "code",
   "execution_count": 14,
   "id": "e465ab72-9134-4e12-b4ec-6dfc51fc998e",
   "metadata": {},
   "outputs": [
    {
     "name": "stdout",
     "output_type": "stream",
     "text": [
      "(-35 . 14)"
     ]
    }
   ],
   "source": [
    "(define (mul-interval-mod x y)\n",
    "    (let ((xl (lower-bound x))\n",
    "          (xu (upper-bound x))\n",
    "          (yl (lower-bound y))\n",
    "          (yu (upper-bound y))\n",
    "          (sxl (> (lower-bound x) 0))\n",
    "          (sxu (> (upper-bound x) 0))\n",
    "          (syl (> (lower-bound y) 0))\n",
    "          (syu (> (upper-bound y) 0)))\n",
    "        (cond ((and sxl sxu syl syu) (make-interval (* xl yl) (* xu yu)))\n",
    "              ((and sxl sxu (not syl) syu) (make-interval (* xu yl) (* xu yu)))\n",
    "              ((and sxl sxu (not syl) (not syu)) (make-interval (* xu yl) (* xl yu)))\n",
    "              ((and (not sxl) sxu syl syu) (make-interval (* xl yu) (* xu yu)))\n",
    "              ((and (not sxl) (not sxu) syl syu) (make-interval (* xl yu) (* xu yl)))\n",
    "              ((and (not sxl) sxu (not syl) syu) (make-interval \n",
    "                                                   (max (* xl yu) (* xu yl))\n",
    "                                                   (max (* xl yl) (* xu yu))))\n",
    "              ((and (not sxl) (not sxu) (not syl) syu) (make-interval (* xl yu) (* xl yl)))\n",
    "              ((and (not sxl) sxu (not syl) (not syu)) (make-interval (* xu yl) (* xl yl)))\n",
    "              ((and (not sxl) (not sxu) (not syl) (not syu)) (make-interval (* xu yu) (* xl yl)))\n",
    "              (else (error \"Unexpected case.\")))))\n",
    "\n",
    "(display (mul-interval-mod (make-interval -5 2) (make-interval 3 7)))"
   ]
  },
  {
   "cell_type": "markdown",
   "id": "063d103b-16ff-49a1-9ea1-fba584d81937",
   "metadata": {},
   "source": [
    "We are able to go from 2^4=16 to 9 branches because of the constrants `xl < xu` and `yl < yu`.\n",
    "\n",
    "It's possible we have a bug in one of the cases, naturally."
   ]
  },
  {
   "cell_type": "markdown",
   "id": "f25e05ed",
   "metadata": {},
   "source": [
    "## Q2.12"
   ]
  },
  {
   "cell_type": "code",
   "execution_count": 15,
   "id": "41f2abdd-4dd6-454b-9589-a484d9731e98",
   "metadata": {},
   "outputs": [
    {
     "name": "stdout",
     "output_type": "stream",
     "text": [
      "(6.12 . 7.4799999999999995)\n",
      "0.09999999999999996"
     ]
    }
   ],
   "source": [
    "(define (make-center-width c w)\n",
    "    (make-interval (- c w) (+ c w)))\n",
    "(define (center i)\n",
    "    (/ (+ (lower-bound i) (upper-bound i)) 2))\n",
    "(define (width i)\n",
    "    (/ (- (upper-bound i) (lower-bound i)) 2))\n",
    "\n",
    "(define (make-center-percent c p)\n",
    "    (make-interval (- c (* c p)) (+ c (* c p))))\n",
    "(define (percent i)\n",
    "    (/ (/ (- (upper-bound i) (lower-bound i)) 2)\n",
    "       (/ (+ (upper-bound i) (lower-bound i)) 2)))\n",
    "\n",
    ";; write percentage as decimal\n",
    "(display (make-center-percent 6.8 0.1)) (newline)\n",
    "(display (percent (make-center-percent 6.8 0.1)))"
   ]
  },
  {
   "cell_type": "markdown",
   "id": "d08996be",
   "metadata": {},
   "source": [
    "## Q2.13"
   ]
  },
  {
   "cell_type": "markdown",
   "id": "b84f69bc-c2d3-4e1b-be18-582841f5a80f",
   "metadata": {},
   "source": [
    "Let $f(c, p)$ denote the interval centered around $c$ with tolerance $p$.\n",
    "\n",
    "Then for $f(c_x, p_x) = (c_x - p_xc_x, c_x + p_xc_x) = (x_l, x_u)$ and $f(c_y, p_y) = (c_y - p_yc_y, c_y + p_yc_y) = (y_l, y_u)$, we are interested in a formula for $p_{xy}$.\n",
    "\n",
    "Let $*$ be our interval multiplication operator. We have $(x_l, x_u)*(y_l, y_u) = (x_ly_l, x_uy_u)$. Expanding the product $x_ly_l$, we have\n",
    "$$\n",
    "\\begin{align}\n",
    "x_ly_l &= c_xc_y - p_xc_xc_y - p_yc_xc_y + p_xp_yc_xc_y \\\\\n",
    "&= c_xc_y - (p_x+p_y-p_xp_y)c_xc_y.\n",
    "\\end{align}\n",
    "$$\n",
    "\n",
    "Expanding $x_uy_u$, we have\n",
    "$$\n",
    "\\begin{align}\n",
    "x_uy_u &= c_xc_y + p_xc_xc_y + p_yc_xc_y + p_xp_yc_xc_y \\\\\n",
    "&= c_xc_y + (p_x+p_y+p_xp_y)c_xc_y.\n",
    "\\end{align}\n",
    "$$\n",
    "\n",
    "When the tolerances are small, $p_xp_y \\approx 0$ so $p_{xy} \\approx p_x+p_y$."
   ]
  },
  {
   "cell_type": "code",
   "execution_count": 16,
   "id": "a7b5a31c-5c8e-4cf2-83f3-342dc07712ac",
   "metadata": {},
   "outputs": [
    {
     "name": "stdout",
     "output_type": "stream",
     "text": [
      "0.19801980198019803"
     ]
    }
   ],
   "source": [
    "(display (percent (mul-interval\n",
    "                   (make-center-percent 10 0.1)\n",
    "                   (make-center-percent 10 0.1))))"
   ]
  },
  {
   "cell_type": "markdown",
   "id": "3d48f90c",
   "metadata": {},
   "source": [
    "## Q2.14"
   ]
  },
  {
   "cell_type": "code",
   "execution_count": 17,
   "id": "8d80d6cb-338c-46cb-acaa-686b81621124",
   "metadata": {},
   "outputs": [
    {
     "name": "stdout",
     "output_type": "stream",
     "text": [
      "(0.2 . 1.0)\n",
      "(0.3333333333333333 . 0.6000000000000001)\n"
     ]
    }
   ],
   "source": [
    "(define (par1 r1 r2)\n",
    "    (div-interval (mul-interval r1 r2)\n",
    "                  (add-interval r1 r2)))\n",
    "(define (par2 r1 r2)\n",
    "    (let ((one (make-interval 1 1)))\n",
    "        (div-interval one (add-interval (div-interval one r1)\n",
    "                          (div-interval one r2)))))\n",
    "\n",
    "(display (par1 (make-center-percent 1 0.0) (make-center-percent 1 0.5))) (newline)\n",
    "(display (par2 (make-center-percent 1 0.0) (make-center-percent 1 0.5))) (newline)"
   ]
  },
  {
   "cell_type": "markdown",
   "id": "c8c8589f-a5d2-47d1-a9a1-949f19b76e54",
   "metadata": {},
   "source": [
    "```\n",
    "Expected interval under old formula:\n",
    "1 / (1/1.0 + 1/(0.5, 1.5))\n",
    "= 1 / (5/3, 3)\n",
    "= (1/3, 3/5)\n",
    "\n",
    "Expected interval under new formula:\n",
    "(1.0)(0.5, 1.5) / (1.0 + (0.5, 1.5))\n",
    "= (0.5, 1.5) / (1.5, 2.5)\n",
    "= (1/5, 1)\n",
    "```\n",
    "\n",
    "This isn't as crazy as it might seem once we remember that in general, `a+b-b` will yield a higher error than `a`.\n",
    "\n",
    "That's because using our methods, we aren't able to know that we are subtracting the \"same\" `b` that we added."
   ]
  },
  {
   "cell_type": "markdown",
   "id": "5d8fde2c",
   "metadata": {},
   "source": [
    "## Q2.15"
   ]
  },
  {
   "cell_type": "markdown",
   "id": "e6ce3abb-af06-48c2-a6b0-e548e40f0853",
   "metadata": {},
   "source": [
    "She is right for the reasons mentioned above. Repeating an uncertain number in a calculation needlessly increases the error using our method."
   ]
  },
  {
   "cell_type": "markdown",
   "id": "2ea5603a",
   "metadata": {},
   "source": [
    "## Q2.16"
   ]
  },
  {
   "cell_type": "markdown",
   "id": "c6c36425-6037-47ff-bde8-b2be283c1326",
   "metadata": {},
   "source": [
    "Same as above. Consider `a-a`; while the true result is always 0, our method would produce the range $(a_{min}-a_{max}, a_{max}-a_{min})$.\n",
    "\n",
    "To fix this issue, we need to rework our intervals and associated arithmetic operations such that they define a field (necessary & sufficient?). This requires analyzing each variable in the context of its place in the function it's in at minimum, and I don't know if this is possible.\n",
    "\n",
    "After searching online, this is known as the [dependency problem](https://en.wikipedia.org/wiki/Interval_arithmetic#Dependency_problem) for interval arithmetric."
   ]
  },
  {
   "cell_type": "markdown",
   "id": "9ef439a6",
   "metadata": {},
   "source": [
    "## Q2.17"
   ]
  },
  {
   "cell_type": "markdown",
   "id": "13efe00f",
   "metadata": {},
   "source": [
    "## Q2.18"
   ]
  },
  {
   "cell_type": "markdown",
   "id": "4cc77201",
   "metadata": {},
   "source": [
    "## Q2.19"
   ]
  },
  {
   "cell_type": "markdown",
   "id": "82908104",
   "metadata": {},
   "source": [
    "## Q2.20"
   ]
  },
  {
   "cell_type": "markdown",
   "id": "4f8f675f",
   "metadata": {},
   "source": [
    "## Q2.21"
   ]
  },
  {
   "cell_type": "markdown",
   "id": "62ceca92",
   "metadata": {},
   "source": [
    "## Q2.22"
   ]
  },
  {
   "cell_type": "markdown",
   "id": "6ad878a8",
   "metadata": {},
   "source": [
    "## Q2.23"
   ]
  },
  {
   "cell_type": "markdown",
   "id": "33ca2e49",
   "metadata": {},
   "source": [
    "## Q2.24"
   ]
  },
  {
   "cell_type": "markdown",
   "id": "e7437abf",
   "metadata": {},
   "source": [
    "## Q2.25"
   ]
  },
  {
   "cell_type": "markdown",
   "id": "2a9c238e",
   "metadata": {},
   "source": [
    "## Q2.26"
   ]
  },
  {
   "cell_type": "markdown",
   "id": "74d97f4b",
   "metadata": {},
   "source": [
    "## Q2.27"
   ]
  },
  {
   "cell_type": "markdown",
   "id": "73ee2256",
   "metadata": {},
   "source": [
    "## Q2.28"
   ]
  },
  {
   "cell_type": "markdown",
   "id": "907094ce",
   "metadata": {},
   "source": [
    "## Q2.29"
   ]
  },
  {
   "cell_type": "markdown",
   "id": "a10316a7",
   "metadata": {},
   "source": [
    "## Q2.30"
   ]
  },
  {
   "cell_type": "markdown",
   "id": "80a52502",
   "metadata": {},
   "source": [
    "## Q2.31"
   ]
  },
  {
   "cell_type": "markdown",
   "id": "15e7d0c4",
   "metadata": {},
   "source": [
    "## Q2.32"
   ]
  },
  {
   "cell_type": "markdown",
   "id": "bdcd5e77",
   "metadata": {},
   "source": [
    "## Q2.33"
   ]
  },
  {
   "cell_type": "markdown",
   "id": "c8d6871b",
   "metadata": {},
   "source": [
    "## Q2.34"
   ]
  },
  {
   "cell_type": "markdown",
   "id": "57481478",
   "metadata": {},
   "source": [
    "## Q2.35"
   ]
  },
  {
   "cell_type": "markdown",
   "id": "22abaf79",
   "metadata": {},
   "source": [
    "## Q2.36"
   ]
  },
  {
   "cell_type": "markdown",
   "id": "fd40242b",
   "metadata": {},
   "source": [
    "## Q2.37"
   ]
  },
  {
   "cell_type": "markdown",
   "id": "339e1c59",
   "metadata": {},
   "source": [
    "## Q2.38"
   ]
  },
  {
   "cell_type": "markdown",
   "id": "a29dcd3e",
   "metadata": {},
   "source": [
    "## Q2.39"
   ]
  },
  {
   "cell_type": "markdown",
   "id": "903c47ee",
   "metadata": {},
   "source": [
    "## Q2.40"
   ]
  },
  {
   "cell_type": "markdown",
   "id": "a15b23a2",
   "metadata": {},
   "source": [
    "## Q2.41"
   ]
  },
  {
   "cell_type": "markdown",
   "id": "7bc8d58c",
   "metadata": {},
   "source": [
    "## Q2.42"
   ]
  },
  {
   "cell_type": "markdown",
   "id": "b687c194",
   "metadata": {},
   "source": [
    "## Q2.43"
   ]
  },
  {
   "cell_type": "markdown",
   "id": "f6bd3ffc",
   "metadata": {},
   "source": [
    "## Q2.44"
   ]
  },
  {
   "cell_type": "markdown",
   "id": "39aec213",
   "metadata": {},
   "source": [
    "## Q2.45"
   ]
  },
  {
   "cell_type": "markdown",
   "id": "f4b52b89",
   "metadata": {},
   "source": [
    "## Q2.46"
   ]
  },
  {
   "cell_type": "markdown",
   "id": "848cd662",
   "metadata": {},
   "source": [
    "## Q2.47"
   ]
  },
  {
   "cell_type": "markdown",
   "id": "58768e9d",
   "metadata": {},
   "source": [
    "## Q2.48"
   ]
  },
  {
   "cell_type": "markdown",
   "id": "8bdf374d",
   "metadata": {},
   "source": [
    "## Q2.49"
   ]
  },
  {
   "cell_type": "markdown",
   "id": "dfce53ac",
   "metadata": {},
   "source": [
    "## Q2.50"
   ]
  },
  {
   "cell_type": "markdown",
   "id": "f9810268",
   "metadata": {},
   "source": [
    "## Q2.51"
   ]
  },
  {
   "cell_type": "markdown",
   "id": "c90ca9b0",
   "metadata": {},
   "source": [
    "## Q2.52"
   ]
  },
  {
   "cell_type": "markdown",
   "id": "96fb4002",
   "metadata": {},
   "source": [
    "## Q2.53"
   ]
  },
  {
   "cell_type": "markdown",
   "id": "e16f0b32",
   "metadata": {},
   "source": [
    "## Q2.54"
   ]
  },
  {
   "cell_type": "markdown",
   "id": "b886d2f5",
   "metadata": {},
   "source": [
    "## Q2.55"
   ]
  },
  {
   "cell_type": "markdown",
   "id": "1a891e42",
   "metadata": {},
   "source": [
    "## Q2.56"
   ]
  },
  {
   "cell_type": "markdown",
   "id": "5d18338b",
   "metadata": {},
   "source": [
    "## Q2.57"
   ]
  },
  {
   "cell_type": "markdown",
   "id": "7e1cf5cd",
   "metadata": {},
   "source": [
    "## Q2.58"
   ]
  },
  {
   "cell_type": "markdown",
   "id": "024f0eb4",
   "metadata": {},
   "source": [
    "## Q2.59"
   ]
  },
  {
   "cell_type": "markdown",
   "id": "7a8d20c6",
   "metadata": {},
   "source": [
    "## Q2.60"
   ]
  },
  {
   "cell_type": "markdown",
   "id": "c9c08ff0",
   "metadata": {},
   "source": [
    "## Q2.61"
   ]
  },
  {
   "cell_type": "markdown",
   "id": "66f47f64",
   "metadata": {},
   "source": [
    "## Q2.62"
   ]
  },
  {
   "cell_type": "markdown",
   "id": "97f59fa6",
   "metadata": {},
   "source": [
    "## Q2.63"
   ]
  },
  {
   "cell_type": "markdown",
   "id": "dc8248ec",
   "metadata": {},
   "source": [
    "## Q2.64"
   ]
  },
  {
   "cell_type": "markdown",
   "id": "2abcae71",
   "metadata": {},
   "source": [
    "## Q2.65"
   ]
  },
  {
   "cell_type": "markdown",
   "id": "98140fe0",
   "metadata": {},
   "source": [
    "## Q2.66"
   ]
  },
  {
   "cell_type": "markdown",
   "id": "3c59ce4c",
   "metadata": {},
   "source": [
    "## Q2.67"
   ]
  },
  {
   "cell_type": "markdown",
   "id": "e25efde1",
   "metadata": {},
   "source": [
    "## Q2.68"
   ]
  },
  {
   "cell_type": "markdown",
   "id": "614124e1",
   "metadata": {},
   "source": [
    "## Q2.69"
   ]
  },
  {
   "cell_type": "markdown",
   "id": "adb50455",
   "metadata": {},
   "source": [
    "## Q2.70"
   ]
  },
  {
   "cell_type": "markdown",
   "id": "ff8f182d",
   "metadata": {},
   "source": [
    "## Q2.71"
   ]
  },
  {
   "cell_type": "markdown",
   "id": "e41c051a",
   "metadata": {},
   "source": [
    "## Q2.72"
   ]
  },
  {
   "cell_type": "markdown",
   "id": "2dfde622",
   "metadata": {},
   "source": [
    "## Q2.73"
   ]
  },
  {
   "cell_type": "markdown",
   "id": "b269ff68",
   "metadata": {},
   "source": [
    "## Q2.74"
   ]
  },
  {
   "cell_type": "markdown",
   "id": "2b39ed7c",
   "metadata": {},
   "source": [
    "## Q2.75"
   ]
  },
  {
   "cell_type": "markdown",
   "id": "22df2c13",
   "metadata": {},
   "source": [
    "## Q2.76"
   ]
  },
  {
   "cell_type": "markdown",
   "id": "201ef9b8",
   "metadata": {},
   "source": [
    "## Q2.77"
   ]
  },
  {
   "cell_type": "markdown",
   "id": "8c9cc853",
   "metadata": {},
   "source": [
    "## Q2.78"
   ]
  },
  {
   "cell_type": "markdown",
   "id": "8d279df4",
   "metadata": {},
   "source": [
    "## Q2.79"
   ]
  },
  {
   "cell_type": "markdown",
   "id": "ef330d18",
   "metadata": {},
   "source": [
    "## Q2.80"
   ]
  },
  {
   "cell_type": "markdown",
   "id": "ce02b7db",
   "metadata": {},
   "source": [
    "## Q2.81"
   ]
  },
  {
   "cell_type": "markdown",
   "id": "e562dcfc",
   "metadata": {},
   "source": [
    "## Q2.82"
   ]
  },
  {
   "cell_type": "markdown",
   "id": "a42046a6",
   "metadata": {},
   "source": [
    "## Q2.83"
   ]
  },
  {
   "cell_type": "markdown",
   "id": "eb9c3094",
   "metadata": {},
   "source": [
    "## Q2.84"
   ]
  },
  {
   "cell_type": "markdown",
   "id": "8029bf95",
   "metadata": {},
   "source": [
    "## Q2.85"
   ]
  },
  {
   "cell_type": "markdown",
   "id": "7da96b4b",
   "metadata": {},
   "source": [
    "## Q2.86"
   ]
  },
  {
   "cell_type": "markdown",
   "id": "ccbb286e",
   "metadata": {},
   "source": [
    "## Q2.87"
   ]
  },
  {
   "cell_type": "markdown",
   "id": "ac931164",
   "metadata": {},
   "source": [
    "## Q2.88"
   ]
  },
  {
   "cell_type": "markdown",
   "id": "6ffbef35",
   "metadata": {},
   "source": [
    "## Q2.89"
   ]
  },
  {
   "cell_type": "markdown",
   "id": "8b2f9297",
   "metadata": {},
   "source": [
    "## Q2.90"
   ]
  },
  {
   "cell_type": "markdown",
   "id": "8b02c3c1",
   "metadata": {},
   "source": [
    "## Q2.91"
   ]
  },
  {
   "cell_type": "markdown",
   "id": "f2a403f2",
   "metadata": {},
   "source": [
    "## Q2.92"
   ]
  },
  {
   "cell_type": "markdown",
   "id": "d8f08fcd",
   "metadata": {},
   "source": [
    "## Q2.93"
   ]
  },
  {
   "cell_type": "markdown",
   "id": "ddc3524a",
   "metadata": {},
   "source": [
    "## Q2.94"
   ]
  },
  {
   "cell_type": "markdown",
   "id": "80d32093",
   "metadata": {},
   "source": [
    "## Q2.95"
   ]
  },
  {
   "cell_type": "markdown",
   "id": "d7fe680a",
   "metadata": {},
   "source": [
    "## Q2.96"
   ]
  },
  {
   "cell_type": "markdown",
   "id": "fc184a3b",
   "metadata": {},
   "source": [
    "## Q2.97"
   ]
  }
 ],
 "metadata": {
  "kernelspec": {
   "display_name": "Racket",
   "language": "racket",
   "name": "racket"
  },
  "language_info": {
   "codemirror_mode": "scheme",
   "file_extension": ".rkt",
   "mimetype": "text/x-racket",
   "name": "Racket",
   "pygments_lexer": "racket",
   "version": "8.9"
  }
 },
 "nbformat": 4,
 "nbformat_minor": 5
}
